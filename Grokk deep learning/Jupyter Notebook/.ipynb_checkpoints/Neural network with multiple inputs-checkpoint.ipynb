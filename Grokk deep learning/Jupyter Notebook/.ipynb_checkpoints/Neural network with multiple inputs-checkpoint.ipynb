{
 "cells": [
  {
   "cell_type": "code",
   "execution_count": 4,
   "metadata": {},
   "outputs": [
    {
     "name": "stdout",
     "output_type": "stream",
     "text": [
      "0.9800000000000001\n"
     ]
    }
   ],
   "source": [
    "weights = [0.1 , 0.2, 0]\n",
    "toes = [8.5, 9.5, 9.9, 9.0] #доля выигранных игр\n",
    "wlrec = [0.65, 0.8, 0.8, 0.9] #текущее среднее число игр, сыгранных игроками\n",
    "nfans = [1.2, 1.3, 0.5, 1.0] #число болельщиков(в млн)\n",
    "inputs = [toes[0], wlrec[0], nfans[0]]\n",
    "\n",
    "def neural_network(inputs, weights): \n",
    "    pred=w_sum(inputs, weights) \n",
    "    return pred\n",
    "\n",
    "def w_sum(inputs, weights):\n",
    "    assert(len(inputs) == len(weights))\n",
    "    output = 0\n",
    "    for i in range(len(inputs)):\n",
    "        output += (inputs[i] * weights[i])\n",
    "    return output\n",
    "\n",
    "pred = neural_network(inputs, weights)\n",
    "print(pred)\n",
    "    "
   ]
  },
  {
   "cell_type": "code",
   "execution_count": 5,
   "metadata": {},
   "outputs": [
    {
     "name": "stdout",
     "output_type": "stream",
     "text": [
      "0.9800000000000001\n"
     ]
    }
   ],
   "source": [
    "#with NumPy\n",
    "import numpy as np\n",
    "weights =np.array([0.1 , 0.2, 0]) #доля выигранных игр\n",
    "wlrec = np.array([0.65, 0.8, 0.8, 0.9]) #текущее среднее число игр, сыгранных игроками\n",
    "nfans = np.array([1.2, 1.3, 0.5, 1.0]) #число болельщиков(в млн)\n",
    "inputs = np.array([toes[0], wlrec[0], nfans[0]])\n",
    "\n",
    "def neural_network(inputs, weights): \n",
    "    pred=inputs.dot(weights) #dot dot product - сколярное произведение\n",
    "    return pred\n",
    "\n",
    "pred = neural_network(inputs, weights)\n",
    "print(pred)"
   ]
  },
  {
   "cell_type": "code",
   "execution_count": null,
   "metadata": {},
   "outputs": [],
   "source": []
  }
 ],
 "metadata": {
  "kernelspec": {
   "display_name": "Python 3",
   "language": "python",
   "name": "python3"
  },
  "language_info": {
   "codemirror_mode": {
    "name": "ipython",
    "version": 3
   },
   "file_extension": ".py",
   "mimetype": "text/x-python",
   "name": "python",
   "nbconvert_exporter": "python",
   "pygments_lexer": "ipython3",
   "version": "3.7.6"
  }
 },
 "nbformat": 4,
 "nbformat_minor": 4
}

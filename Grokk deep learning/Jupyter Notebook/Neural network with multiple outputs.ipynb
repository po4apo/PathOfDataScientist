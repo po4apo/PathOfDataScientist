{
 "cells": [
  {
   "cell_type": "code",
   "execution_count": 3,
   "metadata": {},
   "outputs": [
    {
     "name": "stdout",
     "output_type": "stream",
     "text": [
      "[0.195, 0.13, 0.5850000000000001]\n"
     ]
    }
   ],
   "source": [
    "weights = [0.3 , 0.2, 0.9]\n",
    "wlrec = [0.65, 0.8, 0.8, 0.9] \n",
    "\n",
    "def neural_network(inputs, weights):\n",
    "    pred = ele_mul(inputs[0],weights)\n",
    "    return pred\n",
    "\n",
    "def ele_mul(number, vector): # поэлементное умножение\n",
    "    output = [0, 0, 0]\n",
    "    assert(len(output)==len(vector))\n",
    "    for i in range(len(vector)):\n",
    "        output[i] = vector[i] * number\n",
    "    return output\n",
    "pred = neural_network(wlrec, weights)\n",
    "print(pred)"
   ]
  },
  {
   "cell_type": "code",
   "execution_count": null,
   "metadata": {},
   "outputs": [],
   "source": []
  }
 ],
 "metadata": {
  "kernelspec": {
   "display_name": "Python 3",
   "language": "python",
   "name": "python3"
  },
  "language_info": {
   "codemirror_mode": {
    "name": "ipython",
    "version": 3
   },
   "file_extension": ".py",
   "mimetype": "text/x-python",
   "name": "python",
   "nbconvert_exporter": "python",
   "pygments_lexer": "ipython3",
   "version": "3.7.6"
  }
 },
 "nbformat": 4,
 "nbformat_minor": 4
}
